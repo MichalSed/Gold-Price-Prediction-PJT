{
 "cells": [
  {
   "cell_type": "markdown",
   "id": "4bd5bdf4",
   "metadata": {},
   "source": [
    "# Gold Price Prediction PJT\n",
    "\n",
    "Gold is one of the most precious metals on earth. \n",
    "\n",
    "For many years it was treated as currency before the paper money appeared.\n",
    "\n",
    "Demand for the gold is visible in technology, jewelery & investment sector. \n",
    "\n",
    "Gold investment is very popular that is why it's price prediction is tempting because it can help to decide when buy/sell it.\n",
    "\n",
    "\n",
    "# Data\n",
    "\n",
    "In this project will be used data from Kaggle ('Gold Price Prediction Dataset' competition).\n",
    "\n",
    "Dataset includes Gold ETF price and it's potential predictors, from period 2011-12-15 to 2018-12-31 and it base on Yahoo finance website.\n",
    "\n"
   ]
  },
  {
   "cell_type": "code",
   "execution_count": 1,
   "id": "5a82fdb6",
   "metadata": {},
   "outputs": [],
   "source": [
    "import pandas as pd\n",
    "import matplotlib.pyplot as plt\n",
    "from sklearn.linear_model import Ridge\n",
    "from sklearn.model_selection import train_test_split\n",
    "from sklearn.ensemble import RandomForestRegressor\n",
    "from sklearn.neural_network import MLPRegressor\n",
    "from sklearn.preprocessing import StandardScaler\n",
    "from sklearn.metrics import r2_score, mean_absolute_percentage_error, mean_squared_error\n",
    "from zipfile import ZipFile\n",
    "import selenium\n",
    "from selenium import webdriver"
   ]
  },
  {
   "cell_type": "markdown",
   "id": "70fb2225",
   "metadata": {},
   "source": [
    "# 1. Gathering dataset from Kaggle competition\n",
    "\n",
    "In this step will be used Selenium with webdriver dedicated for Firefox"
   ]
  },
  {
   "cell_type": "code",
   "execution_count": 2,
   "id": "f2e0ecd0",
   "metadata": {},
   "outputs": [
    {
     "name": "stderr",
     "output_type": "stream",
     "text": [
      "C:\\Users\\MICHA~1\\AppData\\Local\\Temp/ipykernel_12988/4022084092.py:1: DeprecationWarning: executable_path has been deprecated, please pass in a Service object\n",
      "  driver = webdriver.Firefox(executable_path=r'C:\\Users\\Michał\\Desktop\\Zjazd 0 (pozostałe pliki)\\geckodriver.exe')\n"
     ]
    }
   ],
   "source": [
    "driver = webdriver.Firefox(executable_path=r'C:\\Users\\Michał\\Desktop\\Zjazd 0 (pozostałe pliki)\\geckodriver.exe')"
   ]
  },
  {
   "cell_type": "markdown",
   "id": "98096d2f",
   "metadata": {},
   "source": [
    "--------------------------------------------------------------------------------------------------------\n",
    "\n",
    "# Notice\n",
    "\n",
    "Dear code reviewer, please remember that in next lines of code, there is a test username & password for Kaggle.\n",
    "\n",
    "Please, use it only during code verification!\n",
    "\n",
    "--------------------------------------------------------------------------------------------------------"
   ]
  },
  {
   "cell_type": "code",
   "execution_count": 3,
   "id": "87d30666",
   "metadata": {},
   "outputs": [],
   "source": [
    "driver.get('https://www.kaggle.com/datasets/sid321axn/gold-price-prediction-dataset')"
   ]
  },
  {
   "cell_type": "code",
   "execution_count": 4,
   "id": "e7349a28",
   "metadata": {},
   "outputs": [
    {
     "name": "stderr",
     "output_type": "stream",
     "text": [
      "C:\\Users\\MICHA~1\\AppData\\Local\\Temp/ipykernel_12988/1889937747.py:1: DeprecationWarning: find_element_by_xpath is deprecated. Please use find_element(by=By.XPATH, value=xpath) instead\n",
      "  sign_in_button = driver.find_element_by_xpath('/html/body/main/div[1]/div/div[4]/div[2]/div[2]/div/div[1]/a/button/span')\n"
     ]
    }
   ],
   "source": [
    "sign_in_button = driver.find_element_by_xpath('/html/body/main/div[1]/div/div[4]/div[2]/div[2]/div/div[1]/a/button/span')\n",
    "sign_in_button.click()"
   ]
  },
  {
   "cell_type": "code",
   "execution_count": 5,
   "id": "3fb51489",
   "metadata": {},
   "outputs": [
    {
     "name": "stderr",
     "output_type": "stream",
     "text": [
      "C:\\Users\\MICHA~1\\AppData\\Local\\Temp/ipykernel_12988/4256043125.py:1: DeprecationWarning: find_element_by_xpath is deprecated. Please use find_element(by=By.XPATH, value=xpath) instead\n",
      "  sign_in_email_button = driver.find_element_by_xpath('/html/body/main/div[1]/div/div[3]/form/div[2]/div/div[2]/a/li/div/span')\n"
     ]
    }
   ],
   "source": [
    "sign_in_email_button = driver.find_element_by_xpath('/html/body/main/div[1]/div/div[3]/form/div[2]/div/div[2]/a/li/div/span')\n",
    "sign_in_email_button.click()"
   ]
  },
  {
   "cell_type": "code",
   "execution_count": 6,
   "id": "73c1f984",
   "metadata": {},
   "outputs": [
    {
     "name": "stderr",
     "output_type": "stream",
     "text": [
      "C:\\Users\\MICHA~1\\AppData\\Local\\Temp/ipykernel_12988/219564754.py:1: DeprecationWarning: find_element_by_xpath is deprecated. Please use find_element(by=By.XPATH, value=xpath) instead\n",
      "  username = driver.find_element_by_xpath('/html/body/main/div[1]/div/div[3]/form/div[2]/div[1]/div/label/input')\n"
     ]
    }
   ],
   "source": [
    "username = driver.find_element_by_xpath('/html/body/main/div[1]/div/div[3]/form/div[2]/div[1]/div/label/input')\n",
    "username.send_keys('plmn0@proton.me')"
   ]
  },
  {
   "cell_type": "code",
   "execution_count": 7,
   "id": "fdd8b239",
   "metadata": {},
   "outputs": [
    {
     "name": "stderr",
     "output_type": "stream",
     "text": [
      "C:\\Users\\MICHA~1\\AppData\\Local\\Temp/ipykernel_12988/2855171521.py:1: DeprecationWarning: find_element_by_xpath is deprecated. Please use find_element(by=By.XPATH, value=xpath) instead\n",
      "  password = driver.find_element_by_xpath('/html/body/main/div[1]/div/div[3]/form/div[2]/div[2]/div/label/input')\n"
     ]
    }
   ],
   "source": [
    "password = driver.find_element_by_xpath('/html/body/main/div[1]/div/div[3]/form/div[2]/div[2]/div/label/input')\n",
    "password.send_keys('DataSciencePJT#1')"
   ]
  },
  {
   "cell_type": "code",
   "execution_count": 8,
   "id": "77ef9497",
   "metadata": {},
   "outputs": [
    {
     "name": "stderr",
     "output_type": "stream",
     "text": [
      "C:\\Users\\MICHA~1\\AppData\\Local\\Temp/ipykernel_12988/3602179500.py:1: DeprecationWarning: find_element_by_xpath is deprecated. Please use find_element(by=By.XPATH, value=xpath) instead\n",
      "  sign_in_email_button2 = driver.find_element_by_xpath('/html/body/main/div[1]/div/div[3]/form/div[2]/div[3]/button/span')\n"
     ]
    }
   ],
   "source": [
    "sign_in_email_button2 = driver.find_element_by_xpath('/html/body/main/div[1]/div/div[3]/form/div[2]/div[3]/button/span')\n",
    "sign_in_email_button2.click()"
   ]
  },
  {
   "cell_type": "code",
   "execution_count": 9,
   "id": "c5723b14",
   "metadata": {},
   "outputs": [
    {
     "name": "stderr",
     "output_type": "stream",
     "text": [
      "C:\\Users\\MICHA~1\\AppData\\Local\\Temp/ipykernel_12988/1203076272.py:1: DeprecationWarning: find_element_by_xpath is deprecated. Please use find_element(by=By.XPATH, value=xpath) instead\n",
      "  download_button = driver.find_element_by_xpath('/html/body/main/div[1]/div/div[6]/div[2]/div[2]/div/div[1]/div/a/button/span')\n"
     ]
    }
   ],
   "source": [
    "download_button = driver.find_element_by_xpath('/html/body/main/div[1]/div/div[6]/div[2]/div[2]/div/div[1]/div/a/button/span')\n",
    "download_button.click()"
   ]
  },
  {
   "cell_type": "code",
   "execution_count": 10,
   "id": "5547115a",
   "metadata": {},
   "outputs": [],
   "source": [
    "driver.close()"
   ]
  },
  {
   "cell_type": "markdown",
   "id": "4c953c2f",
   "metadata": {},
   "source": [
    "--------------------------------------------------------------------------------------------------------\n",
    "\n",
    "# 2. Preparing dataset\n",
    "\n",
    "Steps:\n",
    "1. Unzipping dataset\n",
    "2. Lack of values check\n",
    "3. Setting our 'y' value - removal of columns which represent Gold ETF price from different part of the day during market session due to high correlation\n",
    "4. 'Date' column formatting to a 'datetime'\n",
    "5. Removal of highly correlated potential predictors to avoid multicolienarity\n",
    "\n",
    "--------------------------------------------------------------------------------------------------------"
   ]
  },
  {
   "cell_type": "code",
   "execution_count": 11,
   "id": "65e794f8",
   "metadata": {},
   "outputs": [
    {
     "data": {
      "text/html": [
       "<div>\n",
       "<style scoped>\n",
       "    .dataframe tbody tr th:only-of-type {\n",
       "        vertical-align: middle;\n",
       "    }\n",
       "\n",
       "    .dataframe tbody tr th {\n",
       "        vertical-align: top;\n",
       "    }\n",
       "\n",
       "    .dataframe thead th {\n",
       "        text-align: right;\n",
       "    }\n",
       "</style>\n",
       "<table border=\"1\" class=\"dataframe\">\n",
       "  <thead>\n",
       "    <tr style=\"text-align: right;\">\n",
       "      <th></th>\n",
       "      <th>Date</th>\n",
       "      <th>Open</th>\n",
       "      <th>High</th>\n",
       "      <th>Low</th>\n",
       "      <th>Close</th>\n",
       "      <th>Adj Close</th>\n",
       "      <th>Volume</th>\n",
       "      <th>SP_open</th>\n",
       "      <th>SP_high</th>\n",
       "      <th>SP_low</th>\n",
       "      <th>...</th>\n",
       "      <th>GDX_Low</th>\n",
       "      <th>GDX_Close</th>\n",
       "      <th>GDX_Adj Close</th>\n",
       "      <th>GDX_Volume</th>\n",
       "      <th>USO_Open</th>\n",
       "      <th>USO_High</th>\n",
       "      <th>USO_Low</th>\n",
       "      <th>USO_Close</th>\n",
       "      <th>USO_Adj Close</th>\n",
       "      <th>USO_Volume</th>\n",
       "    </tr>\n",
       "  </thead>\n",
       "  <tbody>\n",
       "    <tr>\n",
       "      <th>0</th>\n",
       "      <td>2011-12-15</td>\n",
       "      <td>154.740005</td>\n",
       "      <td>154.949997</td>\n",
       "      <td>151.710007</td>\n",
       "      <td>152.330002</td>\n",
       "      <td>152.330002</td>\n",
       "      <td>21521900</td>\n",
       "      <td>123.029999</td>\n",
       "      <td>123.199997</td>\n",
       "      <td>121.989998</td>\n",
       "      <td>...</td>\n",
       "      <td>51.570000</td>\n",
       "      <td>51.680000</td>\n",
       "      <td>48.973877</td>\n",
       "      <td>20605600</td>\n",
       "      <td>36.900002</td>\n",
       "      <td>36.939999</td>\n",
       "      <td>36.049999</td>\n",
       "      <td>36.130001</td>\n",
       "      <td>36.130001</td>\n",
       "      <td>12616700</td>\n",
       "    </tr>\n",
       "    <tr>\n",
       "      <th>1</th>\n",
       "      <td>2011-12-16</td>\n",
       "      <td>154.309998</td>\n",
       "      <td>155.369995</td>\n",
       "      <td>153.899994</td>\n",
       "      <td>155.229996</td>\n",
       "      <td>155.229996</td>\n",
       "      <td>18124300</td>\n",
       "      <td>122.230003</td>\n",
       "      <td>122.949997</td>\n",
       "      <td>121.300003</td>\n",
       "      <td>...</td>\n",
       "      <td>52.040001</td>\n",
       "      <td>52.680000</td>\n",
       "      <td>49.921513</td>\n",
       "      <td>16285400</td>\n",
       "      <td>36.180000</td>\n",
       "      <td>36.500000</td>\n",
       "      <td>35.730000</td>\n",
       "      <td>36.270000</td>\n",
       "      <td>36.270000</td>\n",
       "      <td>12578800</td>\n",
       "    </tr>\n",
       "    <tr>\n",
       "      <th>2</th>\n",
       "      <td>2011-12-19</td>\n",
       "      <td>155.479996</td>\n",
       "      <td>155.860001</td>\n",
       "      <td>154.360001</td>\n",
       "      <td>154.869995</td>\n",
       "      <td>154.869995</td>\n",
       "      <td>12547200</td>\n",
       "      <td>122.059998</td>\n",
       "      <td>122.320000</td>\n",
       "      <td>120.029999</td>\n",
       "      <td>...</td>\n",
       "      <td>51.029999</td>\n",
       "      <td>51.169998</td>\n",
       "      <td>48.490578</td>\n",
       "      <td>15120200</td>\n",
       "      <td>36.389999</td>\n",
       "      <td>36.450001</td>\n",
       "      <td>35.930000</td>\n",
       "      <td>36.200001</td>\n",
       "      <td>36.200001</td>\n",
       "      <td>7418200</td>\n",
       "    </tr>\n",
       "    <tr>\n",
       "      <th>3</th>\n",
       "      <td>2011-12-20</td>\n",
       "      <td>156.820007</td>\n",
       "      <td>157.429993</td>\n",
       "      <td>156.580002</td>\n",
       "      <td>156.979996</td>\n",
       "      <td>156.979996</td>\n",
       "      <td>9136300</td>\n",
       "      <td>122.180000</td>\n",
       "      <td>124.139999</td>\n",
       "      <td>120.370003</td>\n",
       "      <td>...</td>\n",
       "      <td>52.369999</td>\n",
       "      <td>52.990002</td>\n",
       "      <td>50.215282</td>\n",
       "      <td>11644900</td>\n",
       "      <td>37.299999</td>\n",
       "      <td>37.610001</td>\n",
       "      <td>37.220001</td>\n",
       "      <td>37.560001</td>\n",
       "      <td>37.560001</td>\n",
       "      <td>10041600</td>\n",
       "    </tr>\n",
       "    <tr>\n",
       "      <th>4</th>\n",
       "      <td>2011-12-21</td>\n",
       "      <td>156.979996</td>\n",
       "      <td>157.529999</td>\n",
       "      <td>156.130005</td>\n",
       "      <td>157.160004</td>\n",
       "      <td>157.160004</td>\n",
       "      <td>11996100</td>\n",
       "      <td>123.930000</td>\n",
       "      <td>124.360001</td>\n",
       "      <td>122.750000</td>\n",
       "      <td>...</td>\n",
       "      <td>52.419998</td>\n",
       "      <td>52.959999</td>\n",
       "      <td>50.186852</td>\n",
       "      <td>8724300</td>\n",
       "      <td>37.669998</td>\n",
       "      <td>38.240002</td>\n",
       "      <td>37.520000</td>\n",
       "      <td>38.110001</td>\n",
       "      <td>38.110001</td>\n",
       "      <td>10728000</td>\n",
       "    </tr>\n",
       "  </tbody>\n",
       "</table>\n",
       "<p>5 rows × 81 columns</p>\n",
       "</div>"
      ],
      "text/plain": [
       "         Date        Open        High         Low       Close   Adj Close  \\\n",
       "0  2011-12-15  154.740005  154.949997  151.710007  152.330002  152.330002   \n",
       "1  2011-12-16  154.309998  155.369995  153.899994  155.229996  155.229996   \n",
       "2  2011-12-19  155.479996  155.860001  154.360001  154.869995  154.869995   \n",
       "3  2011-12-20  156.820007  157.429993  156.580002  156.979996  156.979996   \n",
       "4  2011-12-21  156.979996  157.529999  156.130005  157.160004  157.160004   \n",
       "\n",
       "     Volume     SP_open     SP_high      SP_low  ...    GDX_Low  GDX_Close  \\\n",
       "0  21521900  123.029999  123.199997  121.989998  ...  51.570000  51.680000   \n",
       "1  18124300  122.230003  122.949997  121.300003  ...  52.040001  52.680000   \n",
       "2  12547200  122.059998  122.320000  120.029999  ...  51.029999  51.169998   \n",
       "3   9136300  122.180000  124.139999  120.370003  ...  52.369999  52.990002   \n",
       "4  11996100  123.930000  124.360001  122.750000  ...  52.419998  52.959999   \n",
       "\n",
       "   GDX_Adj Close  GDX_Volume   USO_Open   USO_High    USO_Low  USO_Close  \\\n",
       "0      48.973877    20605600  36.900002  36.939999  36.049999  36.130001   \n",
       "1      49.921513    16285400  36.180000  36.500000  35.730000  36.270000   \n",
       "2      48.490578    15120200  36.389999  36.450001  35.930000  36.200001   \n",
       "3      50.215282    11644900  37.299999  37.610001  37.220001  37.560001   \n",
       "4      50.186852     8724300  37.669998  38.240002  37.520000  38.110001   \n",
       "\n",
       "   USO_Adj Close  USO_Volume  \n",
       "0      36.130001    12616700  \n",
       "1      36.270000    12578800  \n",
       "2      36.200001     7418200  \n",
       "3      37.560001    10041600  \n",
       "4      38.110001    10728000  \n",
       "\n",
       "[5 rows x 81 columns]"
      ]
     },
     "execution_count": 11,
     "metadata": {},
     "output_type": "execute_result"
    }
   ],
   "source": [
    "df = pd.read_csv('C:\\\\Users\\\\Michał\\\\Downloads\\\\archive.zip',compression='zip')\n",
    "df.head()"
   ]
  },
  {
   "cell_type": "code",
   "execution_count": 12,
   "id": "a4bc1404",
   "metadata": {},
   "outputs": [
    {
     "name": "stdout",
     "output_type": "stream",
     "text": [
      "<class 'pandas.core.frame.DataFrame'>\n",
      "RangeIndex: 1718 entries, 0 to 1717\n",
      "Data columns (total 81 columns):\n",
      " #   Column         Non-Null Count  Dtype  \n",
      "---  ------         --------------  -----  \n",
      " 0   Date           1718 non-null   object \n",
      " 1   Open           1718 non-null   float64\n",
      " 2   High           1718 non-null   float64\n",
      " 3   Low            1718 non-null   float64\n",
      " 4   Close          1718 non-null   float64\n",
      " 5   Adj Close      1718 non-null   float64\n",
      " 6   Volume         1718 non-null   int64  \n",
      " 7   SP_open        1718 non-null   float64\n",
      " 8   SP_high        1718 non-null   float64\n",
      " 9   SP_low         1718 non-null   float64\n",
      " 10  SP_close       1718 non-null   float64\n",
      " 11  SP_Ajclose     1718 non-null   float64\n",
      " 12  SP_volume      1718 non-null   int64  \n",
      " 13  DJ_open        1718 non-null   float64\n",
      " 14  DJ_high        1718 non-null   float64\n",
      " 15  DJ_low         1718 non-null   float64\n",
      " 16  DJ_close       1718 non-null   float64\n",
      " 17  DJ_Ajclose     1718 non-null   float64\n",
      " 18  DJ_volume      1718 non-null   int64  \n",
      " 19  EG_open        1718 non-null   float64\n",
      " 20  EG_high        1718 non-null   float64\n",
      " 21  EG_low         1718 non-null   float64\n",
      " 22  EG_close       1718 non-null   float64\n",
      " 23  EG_Ajclose     1718 non-null   float64\n",
      " 24  EG_volume      1718 non-null   int64  \n",
      " 25  EU_Price       1718 non-null   float64\n",
      " 26  EU_open        1718 non-null   float64\n",
      " 27  EU_high        1718 non-null   float64\n",
      " 28  EU_low         1718 non-null   float64\n",
      " 29  EU_Trend       1718 non-null   int64  \n",
      " 30  OF_Price       1718 non-null   float64\n",
      " 31  OF_Open        1718 non-null   float64\n",
      " 32  OF_High        1718 non-null   float64\n",
      " 33  OF_Low         1718 non-null   float64\n",
      " 34  OF_Volume      1718 non-null   int64  \n",
      " 35  OF_Trend       1718 non-null   int64  \n",
      " 36  OS_Price       1718 non-null   float64\n",
      " 37  OS_Open        1718 non-null   float64\n",
      " 38  OS_High        1718 non-null   float64\n",
      " 39  OS_Low         1718 non-null   float64\n",
      " 40  OS_Trend       1718 non-null   int64  \n",
      " 41  SF_Price       1718 non-null   int64  \n",
      " 42  SF_Open        1718 non-null   int64  \n",
      " 43  SF_High        1718 non-null   int64  \n",
      " 44  SF_Low         1718 non-null   int64  \n",
      " 45  SF_Volume      1718 non-null   int64  \n",
      " 46  SF_Trend       1718 non-null   int64  \n",
      " 47  USB_Price      1718 non-null   float64\n",
      " 48  USB_Open       1718 non-null   float64\n",
      " 49  USB_High       1718 non-null   float64\n",
      " 50  USB_Low        1718 non-null   float64\n",
      " 51  USB_Trend      1718 non-null   int64  \n",
      " 52  PLT_Price      1718 non-null   float64\n",
      " 53  PLT_Open       1718 non-null   float64\n",
      " 54  PLT_High       1718 non-null   float64\n",
      " 55  PLT_Low        1718 non-null   float64\n",
      " 56  PLT_Trend      1718 non-null   int64  \n",
      " 57  PLD_Price      1718 non-null   float64\n",
      " 58  PLD_Open       1718 non-null   float64\n",
      " 59  PLD_High       1718 non-null   float64\n",
      " 60  PLD_Low        1718 non-null   float64\n",
      " 61  PLD_Trend      1718 non-null   int64  \n",
      " 62  RHO_PRICE      1718 non-null   int64  \n",
      " 63  USDI_Price     1718 non-null   float64\n",
      " 64  USDI_Open      1718 non-null   float64\n",
      " 65  USDI_High      1718 non-null   float64\n",
      " 66  USDI_Low       1718 non-null   float64\n",
      " 67  USDI_Volume    1718 non-null   int64  \n",
      " 68  USDI_Trend     1718 non-null   int64  \n",
      " 69  GDX_Open       1718 non-null   float64\n",
      " 70  GDX_High       1718 non-null   float64\n",
      " 71  GDX_Low        1718 non-null   float64\n",
      " 72  GDX_Close      1718 non-null   float64\n",
      " 73  GDX_Adj Close  1718 non-null   float64\n",
      " 74  GDX_Volume     1718 non-null   int64  \n",
      " 75  USO_Open       1718 non-null   float64\n",
      " 76  USO_High       1718 non-null   float64\n",
      " 77  USO_Low        1718 non-null   float64\n",
      " 78  USO_Close      1718 non-null   float64\n",
      " 79  USO_Adj Close  1718 non-null   float64\n",
      " 80  USO_Volume     1718 non-null   int64  \n",
      "dtypes: float64(58), int64(22), object(1)\n",
      "memory usage: 1.1+ MB\n"
     ]
    }
   ],
   "source": [
    "df.info()\n",
    "\n",
    "# lack of null values, every column has the same number of rows"
   ]
  },
  {
   "cell_type": "code",
   "execution_count": 13,
   "id": "6db4eb19",
   "metadata": {},
   "outputs": [],
   "source": [
    "df.drop(df.columns[[1, 2, 3, 4]], axis=1, inplace=True)\n",
    "df.rename(columns = {'Adj Close': 'Y_GLD'}, inplace = True)\n",
    "df['Date'] = pd.to_datetime(df['Date'])"
   ]
  },
  {
   "cell_type": "code",
   "execution_count": 14,
   "id": "8636ecf6",
   "metadata": {},
   "outputs": [
    {
     "data": {
      "image/png": "[encoded data removed]",
      "text/plain": [
       "<Figure size 432x288 with 1 Axes>"
      ]
     },
     "metadata": {
      "needs_background": "light"
     },
     "output_type": "display_data"
    }
   ],
   "source": [
    "plt.plot(df['Date'], df['Y_GLD'])\n",
    "plt.title('Adjusted Gold Price History')\n",
    "plt.show()"
   ]
  },
  {
   "cell_type": "code",
   "execution_count": 15,
   "id": "095a1b82",
   "metadata": {},
   "outputs": [
    {
     "data": {
      "text/html": [
       "<div>\n",
       "<style scoped>\n",
       "    .dataframe tbody tr th:only-of-type {\n",
       "        vertical-align: middle;\n",
       "    }\n",
       "\n",
       "    .dataframe tbody tr th {\n",
       "        vertical-align: top;\n",
       "    }\n",
       "\n",
       "    .dataframe thead th {\n",
       "        text-align: right;\n",
       "    }\n",
       "</style>\n",
       "<table border=\"1\" class=\"dataframe\">\n",
       "  <thead>\n",
       "    <tr style=\"text-align: right;\">\n",
       "      <th></th>\n",
       "      <th>Volume</th>\n",
       "      <th>SP_open</th>\n",
       "      <th>SP_high</th>\n",
       "      <th>SP_low</th>\n",
       "      <th>SP_close</th>\n",
       "      <th>SP_Ajclose</th>\n",
       "      <th>SP_volume</th>\n",
       "      <th>DJ_open</th>\n",
       "      <th>DJ_high</th>\n",
       "      <th>DJ_low</th>\n",
       "      <th>...</th>\n",
       "      <th>GDX_Low</th>\n",
       "      <th>GDX_Close</th>\n",
       "      <th>GDX_Adj Close</th>\n",
       "      <th>GDX_Volume</th>\n",
       "      <th>USO_Open</th>\n",
       "      <th>USO_High</th>\n",
       "      <th>USO_Low</th>\n",
       "      <th>USO_Close</th>\n",
       "      <th>USO_Adj Close</th>\n",
       "      <th>USO_Volume</th>\n",
       "    </tr>\n",
       "  </thead>\n",
       "  <tbody>\n",
       "    <tr>\n",
       "      <th>Volume</th>\n",
       "      <td>1.000000</td>\n",
       "      <td>0.218726</td>\n",
       "      <td>0.216355</td>\n",
       "      <td>0.223317</td>\n",
       "      <td>0.220631</td>\n",
       "      <td>0.208594</td>\n",
       "      <td>0.383677</td>\n",
       "      <td>0.195832</td>\n",
       "      <td>0.194437</td>\n",
       "      <td>0.201206</td>\n",
       "      <td>...</td>\n",
       "      <td>0.241727</td>\n",
       "      <td>0.248752</td>\n",
       "      <td>0.250313</td>\n",
       "      <td>0.302225</td>\n",
       "      <td>0.082632</td>\n",
       "      <td>0.083064</td>\n",
       "      <td>0.080475</td>\n",
       "      <td>0.081642</td>\n",
       "      <td>0.081642</td>\n",
       "      <td>0.069580</td>\n",
       "    </tr>\n",
       "    <tr>\n",
       "      <th>SP_open</th>\n",
       "      <td>0.218726</td>\n",
       "      <td>1.000000</td>\n",
       "      <td>0.999792</td>\n",
       "      <td>0.999642</td>\n",
       "      <td>0.999461</td>\n",
       "      <td>0.998422</td>\n",
       "      <td>0.411961</td>\n",
       "      <td>0.986895</td>\n",
       "      <td>0.986533</td>\n",
       "      <td>0.987039</td>\n",
       "      <td>...</td>\n",
       "      <td>0.690565</td>\n",
       "      <td>0.694140</td>\n",
       "      <td>0.678071</td>\n",
       "      <td>0.324907</td>\n",
       "      <td>0.772902</td>\n",
       "      <td>0.774626</td>\n",
       "      <td>0.771235</td>\n",
       "      <td>0.773099</td>\n",
       "      <td>0.773099</td>\n",
       "      <td>0.375568</td>\n",
       "    </tr>\n",
       "    <tr>\n",
       "      <th>SP_high</th>\n",
       "      <td>0.216355</td>\n",
       "      <td>0.999792</td>\n",
       "      <td>1.000000</td>\n",
       "      <td>0.999511</td>\n",
       "      <td>0.999655</td>\n",
       "      <td>0.998721</td>\n",
       "      <td>0.404764</td>\n",
       "      <td>0.986949</td>\n",
       "      <td>0.986917</td>\n",
       "      <td>0.987099</td>\n",
       "      <td>...</td>\n",
       "      <td>0.691524</td>\n",
       "      <td>0.695013</td>\n",
       "      <td>0.678957</td>\n",
       "      <td>0.326542</td>\n",
       "      <td>0.773843</td>\n",
       "      <td>0.775482</td>\n",
       "      <td>0.772154</td>\n",
       "      <td>0.773957</td>\n",
       "      <td>0.773957</td>\n",
       "      <td>0.377996</td>\n",
       "    </tr>\n",
       "    <tr>\n",
       "      <th>SP_low</th>\n",
       "      <td>0.223317</td>\n",
       "      <td>0.999642</td>\n",
       "      <td>0.999511</td>\n",
       "      <td>1.000000</td>\n",
       "      <td>0.999749</td>\n",
       "      <td>0.998452</td>\n",
       "      <td>0.426872</td>\n",
       "      <td>0.986162</td>\n",
       "      <td>0.985829</td>\n",
       "      <td>0.986956</td>\n",
       "      <td>...</td>\n",
       "      <td>0.689003</td>\n",
       "      <td>0.692579</td>\n",
       "      <td>0.676464</td>\n",
       "      <td>0.321351</td>\n",
       "      <td>0.771867</td>\n",
       "      <td>0.773550</td>\n",
       "      <td>0.770087</td>\n",
       "      <td>0.771928</td>\n",
       "      <td>0.771928</td>\n",
       "      <td>0.371390</td>\n",
       "    </tr>\n",
       "    <tr>\n",
       "      <th>SP_close</th>\n",
       "      <td>0.220631</td>\n",
       "      <td>0.999461</td>\n",
       "      <td>0.999655</td>\n",
       "      <td>0.999749</td>\n",
       "      <td>1.000000</td>\n",
       "      <td>0.998841</td>\n",
       "      <td>0.418848</td>\n",
       "      <td>0.986178</td>\n",
       "      <td>0.986169</td>\n",
       "      <td>0.986912</td>\n",
       "      <td>...</td>\n",
       "      <td>0.690145</td>\n",
       "      <td>0.693610</td>\n",
       "      <td>0.677507</td>\n",
       "      <td>0.323515</td>\n",
       "      <td>0.773177</td>\n",
       "      <td>0.774799</td>\n",
       "      <td>0.771396</td>\n",
       "      <td>0.773159</td>\n",
       "      <td>0.773159</td>\n",
       "      <td>0.374658</td>\n",
       "    </tr>\n",
       "    <tr>\n",
       "      <th>...</th>\n",
       "      <td>...</td>\n",
       "      <td>...</td>\n",
       "      <td>...</td>\n",
       "      <td>...</td>\n",
       "      <td>...</td>\n",
       "      <td>...</td>\n",
       "      <td>...</td>\n",
       "      <td>...</td>\n",
       "      <td>...</td>\n",
       "      <td>...</td>\n",
       "      <td>...</td>\n",
       "      <td>...</td>\n",
       "      <td>...</td>\n",
       "      <td>...</td>\n",
       "      <td>...</td>\n",
       "      <td>...</td>\n",
       "      <td>...</td>\n",
       "      <td>...</td>\n",
       "      <td>...</td>\n",
       "      <td>...</td>\n",
       "      <td>...</td>\n",
       "    </tr>\n",
       "    <tr>\n",
       "      <th>USO_High</th>\n",
       "      <td>0.083064</td>\n",
       "      <td>0.774626</td>\n",
       "      <td>0.775482</td>\n",
       "      <td>0.773550</td>\n",
       "      <td>0.774799</td>\n",
       "      <td>0.786760</td>\n",
       "      <td>0.255344</td>\n",
       "      <td>0.723275</td>\n",
       "      <td>0.723594</td>\n",
       "      <td>0.722477</td>\n",
       "      <td>...</td>\n",
       "      <td>0.614587</td>\n",
       "      <td>0.614766</td>\n",
       "      <td>0.600523</td>\n",
       "      <td>0.522581</td>\n",
       "      <td>0.999857</td>\n",
       "      <td>1.000000</td>\n",
       "      <td>0.999818</td>\n",
       "      <td>0.999867</td>\n",
       "      <td>0.999867</td>\n",
       "      <td>0.695678</td>\n",
       "    </tr>\n",
       "    <tr>\n",
       "      <th>USO_Low</th>\n",
       "      <td>0.080475</td>\n",
       "      <td>0.771235</td>\n",
       "      <td>0.772154</td>\n",
       "      <td>0.770087</td>\n",
       "      <td>0.771396</td>\n",
       "      <td>0.783347</td>\n",
       "      <td>0.249038</td>\n",
       "      <td>0.719607</td>\n",
       "      <td>0.719975</td>\n",
       "      <td>0.718726</td>\n",
       "      <td>...</td>\n",
       "      <td>0.613844</td>\n",
       "      <td>0.613931</td>\n",
       "      <td>0.599819</td>\n",
       "      <td>0.523956</td>\n",
       "      <td>0.999848</td>\n",
       "      <td>0.999818</td>\n",
       "      <td>1.000000</td>\n",
       "      <td>0.999879</td>\n",
       "      <td>0.999879</td>\n",
       "      <td>0.702665</td>\n",
       "    </tr>\n",
       "    <tr>\n",
       "      <th>USO_Close</th>\n",
       "      <td>0.081642</td>\n",
       "      <td>0.773099</td>\n",
       "      <td>0.773957</td>\n",
       "      <td>0.771928</td>\n",
       "      <td>0.773159</td>\n",
       "      <td>0.785103</td>\n",
       "      <td>0.251419</td>\n",
       "      <td>0.721539</td>\n",
       "      <td>0.721857</td>\n",
       "      <td>0.720646</td>\n",
       "      <td>...</td>\n",
       "      <td>0.614733</td>\n",
       "      <td>0.614915</td>\n",
       "      <td>0.600756</td>\n",
       "      <td>0.523801</td>\n",
       "      <td>0.999699</td>\n",
       "      <td>0.999867</td>\n",
       "      <td>0.999879</td>\n",
       "      <td>1.000000</td>\n",
       "      <td>1.000000</td>\n",
       "      <td>0.699221</td>\n",
       "    </tr>\n",
       "    <tr>\n",
       "      <th>USO_Adj Close</th>\n",
       "      <td>0.081642</td>\n",
       "      <td>0.773099</td>\n",
       "      <td>0.773957</td>\n",
       "      <td>0.771928</td>\n",
       "      <td>0.773159</td>\n",
       "      <td>0.785103</td>\n",
       "      <td>0.251419</td>\n",
       "      <td>0.721539</td>\n",
       "      <td>0.721857</td>\n",
       "      <td>0.720646</td>\n",
       "      <td>...</td>\n",
       "      <td>0.614733</td>\n",
       "      <td>0.614915</td>\n",
       "      <td>0.600756</td>\n",
       "      <td>0.523801</td>\n",
       "      <td>0.999699</td>\n",
       "      <td>0.999867</td>\n",
       "      <td>0.999879</td>\n",
       "      <td>1.000000</td>\n",
       "      <td>1.000000</td>\n",
       "      <td>0.699221</td>\n",
       "    </tr>\n",
       "    <tr>\n",
       "      <th>USO_Volume</th>\n",
       "      <td>0.069580</td>\n",
       "      <td>0.375568</td>\n",
       "      <td>0.377996</td>\n",
       "      <td>0.371390</td>\n",
       "      <td>0.374658</td>\n",
       "      <td>0.386096</td>\n",
       "      <td>0.045722</td>\n",
       "      <td>0.315246</td>\n",
       "      <td>0.316818</td>\n",
       "      <td>0.310782</td>\n",
       "      <td>...</td>\n",
       "      <td>0.429839</td>\n",
       "      <td>0.426553</td>\n",
       "      <td>0.421065</td>\n",
       "      <td>0.498816</td>\n",
       "      <td>0.699000</td>\n",
       "      <td>0.695678</td>\n",
       "      <td>0.702665</td>\n",
       "      <td>0.699221</td>\n",
       "      <td>0.699221</td>\n",
       "      <td>1.000000</td>\n",
       "    </tr>\n",
       "  </tbody>\n",
       "</table>\n",
       "<p>75 rows × 75 columns</p>\n",
       "</div>"
      ],
      "text/plain": [
       "                 Volume   SP_open   SP_high    SP_low  SP_close  SP_Ajclose  \\\n",
       "Volume         1.000000  0.218726  0.216355  0.223317  0.220631    0.208594   \n",
       "SP_open        0.218726  1.000000  0.999792  0.999642  0.999461    0.998422   \n",
       "SP_high        0.216355  0.999792  1.000000  0.999511  0.999655    0.998721   \n",
       "SP_low         0.223317  0.999642  0.999511  1.000000  0.999749    0.998452   \n",
       "SP_close       0.220631  0.999461  0.999655  0.999749  1.000000    0.998841   \n",
       "...                 ...       ...       ...       ...       ...         ...   \n",
       "USO_High       0.083064  0.774626  0.775482  0.773550  0.774799    0.786760   \n",
       "USO_Low        0.080475  0.771235  0.772154  0.770087  0.771396    0.783347   \n",
       "USO_Close      0.081642  0.773099  0.773957  0.771928  0.773159    0.785103   \n",
       "USO_Adj Close  0.081642  0.773099  0.773957  0.771928  0.773159    0.785103   \n",
       "USO_Volume     0.069580  0.375568  0.377996  0.371390  0.374658    0.386096   \n",
       "\n",
       "               SP_volume   DJ_open   DJ_high    DJ_low  ...   GDX_Low  \\\n",
       "Volume          0.383677  0.195832  0.194437  0.201206  ...  0.241727   \n",
       "SP_open         0.411961  0.986895  0.986533  0.987039  ...  0.690565   \n",
       "SP_high         0.404764  0.986949  0.986917  0.987099  ...  0.691524   \n",
       "SP_low          0.426872  0.986162  0.985829  0.986956  ...  0.689003   \n",
       "SP_close        0.418848  0.986178  0.986169  0.986912  ...  0.690145   \n",
       "...                  ...       ...       ...       ...  ...       ...   \n",
       "USO_High        0.255344  0.723275  0.723594  0.722477  ...  0.614587   \n",
       "USO_Low         0.249038  0.719607  0.719975  0.718726  ...  0.613844   \n",
       "USO_Close       0.251419  0.721539  0.721857  0.720646  ...  0.614733   \n",
       "USO_Adj Close   0.251419  0.721539  0.721857  0.720646  ...  0.614733   \n",
       "USO_Volume      0.045722  0.315246  0.316818  0.310782  ...  0.429839   \n",
       "\n",
       "               GDX_Close  GDX_Adj Close  GDX_Volume  USO_Open  USO_High  \\\n",
       "Volume          0.248752       0.250313    0.302225  0.082632  0.083064   \n",
       "SP_open         0.694140       0.678071    0.324907  0.772902  0.774626   \n",
       "SP_high         0.695013       0.678957    0.326542  0.773843  0.775482   \n",
       "SP_low          0.692579       0.676464    0.321351  0.771867  0.773550   \n",
       "SP_close        0.693610       0.677507    0.323515  0.773177  0.774799   \n",
       "...                  ...            ...         ...       ...       ...   \n",
       "USO_High        0.614766       0.600523    0.522581  0.999857  1.000000   \n",
       "USO_Low         0.613931       0.599819    0.523956  0.999848  0.999818   \n",
       "USO_Close       0.614915       0.600756    0.523801  0.999699  0.999867   \n",
       "USO_Adj Close   0.614915       0.600756    0.523801  0.999699  0.999867   \n",
       "USO_Volume      0.426553       0.421065    0.498816  0.699000  0.695678   \n",
       "\n",
       "                USO_Low  USO_Close  USO_Adj Close  USO_Volume  \n",
       "Volume         0.080475   0.081642       0.081642    0.069580  \n",
       "SP_open        0.771235   0.773099       0.773099    0.375568  \n",
       "SP_high        0.772154   0.773957       0.773957    0.377996  \n",
       "SP_low         0.770087   0.771928       0.771928    0.371390  \n",
       "SP_close       0.771396   0.773159       0.773159    0.374658  \n",
       "...                 ...        ...            ...         ...  \n",
       "USO_High       0.999818   0.999867       0.999867    0.695678  \n",
       "USO_Low        1.000000   0.999879       0.999879    0.702665  \n",
       "USO_Close      0.999879   1.000000       1.000000    0.699221  \n",
       "USO_Adj Close  0.999879   1.000000       1.000000    0.699221  \n",
       "USO_Volume     0.702665   0.699221       0.699221    1.000000  \n",
       "\n",
       "[75 rows x 75 columns]"
      ]
     },
     "execution_count": 15,
     "metadata": {},
     "output_type": "execute_result"
    }
   ],
   "source": [
    "df_no_Y = df.drop('Y_GLD', axis = 1)\n",
    "corr_matrix = df_no_Y.corr().abs()\n",
    "corr_matrix"
   ]
  },
  {
   "cell_type": "code",
   "execution_count": 16,
   "id": "127c09ff",
   "metadata": {},
   "outputs": [
    {
     "name": "stdout",
     "output_type": "stream",
     "text": [
      "               Volume   SP_open   SP_high    SP_low  SP_close  SP_Ajclose  \\\n",
      "Volume            NaN  0.218726  0.216355  0.223317  0.220631    0.208594   \n",
      "SP_open           NaN       NaN  0.999792  0.999642  0.999461    0.998422   \n",
      "SP_high           NaN       NaN       NaN  0.999511  0.999655    0.998721   \n",
      "SP_low            NaN       NaN       NaN       NaN  0.999749    0.998452   \n",
      "SP_close          NaN       NaN       NaN       NaN       NaN    0.998841   \n",
      "...               ...       ...       ...       ...       ...         ...   \n",
      "USO_High          NaN       NaN       NaN       NaN       NaN         NaN   \n",
      "USO_Low           NaN       NaN       NaN       NaN       NaN         NaN   \n",
      "USO_Close         NaN       NaN       NaN       NaN       NaN         NaN   \n",
      "USO_Adj Close     NaN       NaN       NaN       NaN       NaN         NaN   \n",
      "USO_Volume        NaN       NaN       NaN       NaN       NaN         NaN   \n",
      "\n",
      "               SP_volume   DJ_open   DJ_high    DJ_low  ...   GDX_Low  \\\n",
      "Volume          0.383677  0.195832  0.194437  0.201206  ...  0.241727   \n",
      "SP_open         0.411961  0.986895  0.986533  0.987039  ...  0.690565   \n",
      "SP_high         0.404764  0.986949  0.986917  0.987099  ...  0.691524   \n",
      "SP_low          0.426872  0.986162  0.985829  0.986956  ...  0.689003   \n",
      "SP_close        0.418848  0.986178  0.986169  0.986912  ...  0.690145   \n",
      "...                  ...       ...       ...       ...  ...       ...   \n",
      "USO_High             NaN       NaN       NaN       NaN  ...       NaN   \n",
      "USO_Low              NaN       NaN       NaN       NaN  ...       NaN   \n",
      "USO_Close            NaN       NaN       NaN       NaN  ...       NaN   \n",
      "USO_Adj Close        NaN       NaN       NaN       NaN  ...       NaN   \n",
      "USO_Volume           NaN       NaN       NaN       NaN  ...       NaN   \n",
      "\n",
      "               GDX_Close  GDX_Adj Close  GDX_Volume  USO_Open  USO_High  \\\n",
      "Volume          0.248752       0.250313    0.302225  0.082632  0.083064   \n",
      "SP_open         0.694140       0.678071    0.324907  0.772902  0.774626   \n",
      "SP_high         0.695013       0.678957    0.326542  0.773843  0.775482   \n",
      "SP_low          0.692579       0.676464    0.321351  0.771867  0.773550   \n",
      "SP_close        0.693610       0.677507    0.323515  0.773177  0.774799   \n",
      "...                  ...            ...         ...       ...       ...   \n",
      "USO_High             NaN            NaN         NaN       NaN       NaN   \n",
      "USO_Low              NaN            NaN         NaN       NaN       NaN   \n",
      "USO_Close            NaN            NaN         NaN       NaN       NaN   \n",
      "USO_Adj Close        NaN            NaN         NaN       NaN       NaN   \n",
      "USO_Volume           NaN            NaN         NaN       NaN       NaN   \n",
      "\n",
      "                USO_Low  USO_Close  USO_Adj Close  USO_Volume  \n",
      "Volume         0.080475   0.081642       0.081642    0.069580  \n",
      "SP_open        0.771235   0.773099       0.773099    0.375568  \n",
      "SP_high        0.772154   0.773957       0.773957    0.377996  \n",
      "SP_low         0.770087   0.771928       0.771928    0.371390  \n",
      "SP_close       0.771396   0.773159       0.773159    0.374658  \n",
      "...                 ...        ...            ...         ...  \n",
      "USO_High       0.999818   0.999867       0.999867    0.695678  \n",
      "USO_Low             NaN   0.999879       0.999879    0.702665  \n",
      "USO_Close           NaN        NaN       1.000000    0.699221  \n",
      "USO_Adj Close       NaN        NaN            NaN    0.699221  \n",
      "USO_Volume          NaN        NaN            NaN         NaN  \n",
      "\n",
      "[75 rows x 75 columns]\n"
     ]
    },
    {
     "name": "stderr",
     "output_type": "stream",
     "text": [
      "C:\\Users\\MICHA~1\\AppData\\Local\\Temp/ipykernel_12988/3554644027.py:1: DeprecationWarning: `np.bool` is a deprecated alias for the builtin `bool`. To silence this warning, use `bool` by itself. Doing this will not modify any behavior and is safe. If you specifically wanted the numpy scalar type, use `np.bool_` here.\n",
      "Deprecated in NumPy 1.20; for more details and guidance: https://numpy.org/devdocs/release/1.20.0-notes.html#deprecations\n",
      "  high_x_corr = corr_matrix.where(np.triu(np.ones(corr_matrix.shape),k=1).astype(np.bool))\n"
     ]
    }
   ],
   "source": [
    "high_x_corr = corr_matrix.where(np.triu(np.ones(corr_matrix.shape),k=1).astype(np.bool))\n",
    "print(high_x_corr)"
   ]
  },
  {
   "cell_type": "code",
   "execution_count": 17,
   "id": "6018ee6f",
   "metadata": {},
   "outputs": [
    {
     "name": "stdout",
     "output_type": "stream",
     "text": [
      "['SP_high', 'SP_low', 'SP_close', 'SP_Ajclose', 'DJ_open', 'DJ_high', 'DJ_low', 'DJ_close', 'DJ_Ajclose', 'EG_high', 'EG_low', 'EG_close', 'EG_Ajclose', 'EU_open', 'EU_high', 'EU_low', 'OF_Open', 'OF_High', 'OF_Low', 'OS_Price', 'OS_Open', 'OS_High', 'OS_Low', 'SF_Open', 'SF_High', 'SF_Low', 'USB_Open', 'USB_High', 'USB_Low', 'PLT_Open', 'PLT_High', 'PLT_Low', 'PLD_Open', 'PLD_High', 'PLD_Low', 'USDI_Price', 'USDI_Open', 'USDI_High', 'USDI_Low', 'GDX_High', 'GDX_Low', 'GDX_Close', 'GDX_Adj Close', 'USO_Open', 'USO_High', 'USO_Low', 'USO_Close', 'USO_Adj Close']\n"
     ]
    }
   ],
   "source": [
    "to_drop = [column for column in high_x_corr.columns if any(high_x_corr[column] > 0.95)]\n",
    "print(to_drop)"
   ]
  },
  {
   "cell_type": "code",
   "execution_count": 18,
   "id": "5a3b9a19",
   "metadata": {},
   "outputs": [
    {
     "name": "stderr",
     "output_type": "stream",
     "text": [
      "C:\\Users\\MICHA~1\\AppData\\Local\\Temp/ipykernel_12988/786517792.py:1: FutureWarning: In a future version of pandas all arguments of DataFrame.drop except for the argument 'labels' will be keyword-only\n",
      "  df_no_Y = df_no_Y.drop(['Date', 'SP_open', 'SP_high', 'SP_low', 'SP_close', 'DJ_open', 'DJ_high',\n"
     ]
    }
   ],
   "source": [
    "df_no_Y = df_no_Y.drop(['Date', 'SP_open', 'SP_high', 'SP_low', 'SP_close', 'DJ_open', 'DJ_high', \n",
    "              'DJ_low', 'DJ_close', 'EG_high', 'EG_low', 'EG_close', \n",
    "              'EU_high', 'EU_low', 'OF_High', 'OF_Low', 'OS_Open', \n",
    "              'OS_High', 'OS_Low', 'SF_High', 'SF_Low', 'USB_High', \n",
    "              'USB_Low', 'PLT_High', 'PLT_Low', 'PLD_High', 'PLD_Low', \n",
    "              'USDI_Open', 'USDI_High', 'USDI_Low', 'GDX_High', \n",
    "              'GDX_Low', 'GDX_Close', 'USO_Open', 'USO_High', 'USO_Low', \n",
    "              'USO_Close'], 1)"
   ]
  },
  {
   "cell_type": "code",
   "execution_count": 19,
   "id": "e8a445ba",
   "metadata": {},
   "outputs": [],
   "source": [
    "df_no_Y = pd.get_dummies(df_no_Y)"
   ]
  },
  {
   "cell_type": "markdown",
   "id": "57ebdd93",
   "metadata": {},
   "source": [
    "--------------------------------------------------------------------------------------------------------\n",
    "\n",
    "# 3. Working with models\n",
    "\n",
    "For every model has been calculated the same metrics to allow comparison:\n",
    "- R^2 - very popular metric used for evaluating the performance of regression models.\n",
    "- MSE - Mean Average Error, uses Euclidean distance to calculate the error.\n",
    "- MAPE - Meane Average Percentage Error, uses Manhattan distance to calculate the error.\n",
    "\n",
    "--------------------------------------------------------------------------------------------------------"
   ]
  },
  {
   "cell_type": "markdown",
   "id": "556ff219",
   "metadata": {},
   "source": [
    "# Ridge\n",
    "\n",
    "Firstly will be used simple regression model named Ridge to compare it to more complex models."
   ]
  },
  {
   "cell_type": "code",
   "execution_count": 20,
   "id": "d7a57c9d",
   "metadata": {},
   "outputs": [],
   "source": [
    "X1 = df_no_Y\n",
    "y = df['Y_GLD']"
   ]
  },
  {
   "cell_type": "code",
   "execution_count": 21,
   "id": "927fd717",
   "metadata": {},
   "outputs": [],
   "source": [
    "# This split for a test & train subsets will be used in other models\n",
    "\n",
    "X1_train, X1_test, y_train, y_test = train_test_split(X1, y, random_state = 42, test_size=0.2)"
   ]
  },
  {
   "cell_type": "code",
   "execution_count": 22,
   "id": "40ab89b9",
   "metadata": {},
   "outputs": [],
   "source": [
    "ridge_model = Ridge(alpha=1.0, copy_X=True, fit_intercept=True, max_iter=None, \n",
    "                   normalize=False, random_state=1858, solver='auto', tol=0.001)"
   ]
  },
  {
   "cell_type": "code",
   "execution_count": 23,
   "id": "082a5c0a",
   "metadata": {},
   "outputs": [
    {
     "name": "stderr",
     "output_type": "stream",
     "text": [
      "C:\\ProgramData\\Anaconda3\\lib\\site-packages\\sklearn\\linear_model\\_ridge.py:147: LinAlgWarning: Ill-conditioned matrix (rcond=4.39281e-20): result may not be accurate.\n",
      "  return linalg.solve(A, Xy, sym_pos=True,\n"
     ]
    }
   ],
   "source": [
    "ridge_model_fit = ridge_model.fit(X1_train, y_train)\n",
    "ridge_model_predict = ridge_model_fit.predict(X1_test)"
   ]
  },
  {
   "cell_type": "code",
   "execution_count": 24,
   "id": "f93da393",
   "metadata": {},
   "outputs": [],
   "source": [
    "r2 = r2_score(ridge_model_predict, y_test)\n",
    "MSE = mean_squared_error(y_test, ridge_model_predict)\n",
    "MAPE = mean_absolute_percentage_error(ridge_model_predict, y_test)"
   ]
  },
  {
   "cell_type": "code",
   "execution_count": 25,
   "id": "0ee26263",
   "metadata": {},
   "outputs": [
    {
     "name": "stdout",
     "output_type": "stream",
     "text": [
      "R2: 0.9841745442630263\n",
      "MSE: 4.877860542093268\n",
      "MAPE: 0.01394624677639101\n"
     ]
    }
   ],
   "source": [
    "print(f\"R2: {r2}\")\n",
    "print(f\"MSE: {MSE}\")\n",
    "print(f\"MAPE: {MAPE}\")"
   ]
  },
  {
   "cell_type": "markdown",
   "id": "7516e57b",
   "metadata": {},
   "source": [
    "# Random Forest Regression\n",
    "\n",
    "Random Forest Regression is an alternative for of regression. In the case of a regression problem, with the use of multiple decision trees, the final output is the mean of all the outputs."
   ]
  },
  {
   "cell_type": "code",
   "execution_count": 26,
   "id": "9200c2f8",
   "metadata": {},
   "outputs": [],
   "source": [
    "rfr_model = RandomForestRegressor(n_estimators = 100, \n",
    "                              max_features = 'sqrt', \n",
    "                              random_state = 18, \n",
    "                              max_depth = 5).fit(X1_train, y_train)"
   ]
  },
  {
   "cell_type": "code",
   "execution_count": 27,
   "id": "529df6c7",
   "metadata": {},
   "outputs": [],
   "source": [
    "rfr_predict = rfr_model.predict(X1_test)"
   ]
  },
  {
   "cell_type": "code",
   "execution_count": 28,
   "id": "34539c6b",
   "metadata": {},
   "outputs": [],
   "source": [
    "r2_rfr = r2_score(rfr_predict, y_test)\n",
    "MSE_rfr = mean_squared_error(y_test, rfr_predict)\n",
    "MAPE_rfr = mean_absolute_percentage_error(rfr_predict, y_test)"
   ]
  },
  {
   "cell_type": "code",
   "execution_count": 29,
   "id": "665c4e3a",
   "metadata": {},
   "outputs": [
    {
     "name": "stdout",
     "output_type": "stream",
     "text": [
      "R2: 0.9852625814090572\n",
      "MSE: 4.399918227053712\n",
      "MAPE: 0.013035869077005085\n"
     ]
    }
   ],
   "source": [
    "print(f\"R2: {r2_rfr}\")\n",
    "print(f\"MSE: {MSE_rfr}\")\n",
    "print(f\"MAPE: {MAPE_rfr}\")"
   ]
  },
  {
   "cell_type": "markdown",
   "id": "ed48a71c",
   "metadata": {},
   "source": [
    "# MLP\n",
    "\n",
    "Multilayer perceptors known as feed-forward neural networks type, can be seen as a generalization of linear models that perform multiple processing steps for forecasting."
   ]
  },
  {
   "cell_type": "code",
   "execution_count": 30,
   "id": "daa767a2",
   "metadata": {},
   "outputs": [],
   "source": [
    "scaler = StandardScaler()\n",
    "X1_train_sc = scaler.fit_transform(X1_train)\n",
    "X1_test_sc = scaler.transform(X1_test)"
   ]
  },
  {
   "cell_type": "code",
   "execution_count": 31,
   "id": "a57e4cbf",
   "metadata": {},
   "outputs": [
    {
     "data": {
      "text/plain": [
       "MLPRegressor(activation='identity', batch_size=64,\n",
       "             hidden_layer_sizes=(64, 32, 16, 8, 4), max_iter=1000,\n",
       "             random_state=42)"
      ]
     },
     "execution_count": 31,
     "metadata": {},
     "output_type": "execute_result"
    }
   ],
   "source": [
    "MLP_model = MLPRegressor(\n",
    "    hidden_layer_sizes=(64, 32, 16, 8, 4),\n",
    "    activation='identity',\n",
    "    solver='adam',\n",
    "    random_state=42,\n",
    "    max_iter=1000,\n",
    "    batch_size=64)\n",
    "\n",
    "MLP_model.fit(X1_train_sc, y_train)"
   ]
  },
  {
   "cell_type": "code",
   "execution_count": 32,
   "id": "9a7a30f6",
   "metadata": {},
   "outputs": [],
   "source": [
    "MLP_predict = MLP_model.predict(X1_test_sc)"
   ]
  },
  {
   "cell_type": "code",
   "execution_count": 33,
   "id": "cef6d6a9",
   "metadata": {},
   "outputs": [],
   "source": [
    "r2_MLP = r2_score(MLP_predict, y_test)\n",
    "MSE_MLP = mean_squared_error(y_test, MLP_predict)\n",
    "MAPE_MLP = mean_absolute_percentage_error(MLP_predict, y_test)"
   ]
  },
  {
   "cell_type": "code",
   "execution_count": 34,
   "id": "ff146889",
   "metadata": {},
   "outputs": [
    {
     "name": "stdout",
     "output_type": "stream",
     "text": [
      "R2: 0.9807103642464932\n",
      "MSE: 6.341116615671143\n",
      "MAPE: 0.015979890701035365\n"
     ]
    }
   ],
   "source": [
    "print(f\"R2: {r2_MLP}\")\n",
    "print(f\"MSE: {MSE_MLP}\")\n",
    "print(f\"MAPE: {MAPE_MLP}\")"
   ]
  },
  {
   "cell_type": "markdown",
   "id": "95f73044",
   "metadata": {},
   "source": [
    "# Summary\n",
    "\n",
    "As we can se below, the difference between these 3 models is not so big. \n",
    "\n",
    "To predict the price of GLD ETF could be used Random Forest Regression model because of highest R^2 value and lowest MSE."
   ]
  },
  {
   "cell_type": "code",
   "execution_count": 35,
   "id": "b0187532",
   "metadata": {},
   "outputs": [
    {
     "data": {
      "text/html": [
       "<div>\n",
       "<style scoped>\n",
       "    .dataframe tbody tr th:only-of-type {\n",
       "        vertical-align: middle;\n",
       "    }\n",
       "\n",
       "    .dataframe tbody tr th {\n",
       "        vertical-align: top;\n",
       "    }\n",
       "\n",
       "    .dataframe thead th {\n",
       "        text-align: right;\n",
       "    }\n",
       "</style>\n",
       "<table border=\"1\" class=\"dataframe\">\n",
       "  <thead>\n",
       "    <tr style=\"text-align: right;\">\n",
       "      <th></th>\n",
       "      <th>Ridge</th>\n",
       "      <th>Random Forest Regression</th>\n",
       "      <th>MLP</th>\n",
       "    </tr>\n",
       "  </thead>\n",
       "  <tbody>\n",
       "    <tr>\n",
       "      <th>R2</th>\n",
       "      <td>0.984175</td>\n",
       "      <td>0.985263</td>\n",
       "      <td>0.980710</td>\n",
       "    </tr>\n",
       "    <tr>\n",
       "      <th>MSE</th>\n",
       "      <td>4.877861</td>\n",
       "      <td>4.399918</td>\n",
       "      <td>6.341117</td>\n",
       "    </tr>\n",
       "    <tr>\n",
       "      <th>MAPE</th>\n",
       "      <td>0.013946</td>\n",
       "      <td>0.013036</td>\n",
       "      <td>0.015980</td>\n",
       "    </tr>\n",
       "  </tbody>\n",
       "</table>\n",
       "</div>"
      ],
      "text/plain": [
       "         Ridge  Random Forest Regression       MLP\n",
       "R2    0.984175                  0.985263  0.980710\n",
       "MSE   4.877861                  4.399918  6.341117\n",
       "MAPE  0.013946                  0.013036  0.015980"
      ]
     },
     "execution_count": 35,
     "metadata": {},
     "output_type": "execute_result"
    }
   ],
   "source": [
    "index_labels = ['R2', 'MSE', 'MAPE']\n",
    "\n",
    "results_df = pd.DataFrame([[r2,r2_rfr,r2_MLP], \n",
    "                           [MSE, MSE_rfr, MSE_MLP], \n",
    "                           [MAPE, MAPE_rfr, MAPE_MLP]], \n",
    "                          columns = ['Ridge','Random Forest Regression','MLP'], index = index_labels)\n",
    "\n",
    "results_df"
   ]
  },
  {
   "cell_type": "code",
   "execution_count": 36,
   "id": "5c3038cc",
   "metadata": {},
   "outputs": [
    {
     "data": {
      "text/html": [
       "<div>\n",
       "<style scoped>\n",
       "    .dataframe tbody tr th:only-of-type {\n",
       "        vertical-align: middle;\n",
       "    }\n",
       "\n",
       "    .dataframe tbody tr th {\n",
       "        vertical-align: top;\n",
       "    }\n",
       "\n",
       "    .dataframe thead th {\n",
       "        text-align: right;\n",
       "    }\n",
       "</style>\n",
       "<table border=\"1\" class=\"dataframe\">\n",
       "  <thead>\n",
       "    <tr style=\"text-align: right;\">\n",
       "      <th></th>\n",
       "      <th>y_test</th>\n",
       "      <th>Ridge</th>\n",
       "      <th>Random Forest Regression</th>\n",
       "      <th>MLP</th>\n",
       "    </tr>\n",
       "  </thead>\n",
       "  <tbody>\n",
       "    <tr>\n",
       "      <th>1</th>\n",
       "      <td>127.699997</td>\n",
       "      <td>126.310070</td>\n",
       "      <td>126.404958</td>\n",
       "      <td>126.640365</td>\n",
       "    </tr>\n",
       "    <tr>\n",
       "      <th>2</th>\n",
       "      <td>116.470001</td>\n",
       "      <td>117.835560</td>\n",
       "      <td>118.019889</td>\n",
       "      <td>116.261090</td>\n",
       "    </tr>\n",
       "    <tr>\n",
       "      <th>3</th>\n",
       "      <td>157.320007</td>\n",
       "      <td>159.047586</td>\n",
       "      <td>155.018143</td>\n",
       "      <td>159.006143</td>\n",
       "    </tr>\n",
       "    <tr>\n",
       "      <th>4</th>\n",
       "      <td>155.089996</td>\n",
       "      <td>156.038240</td>\n",
       "      <td>154.979144</td>\n",
       "      <td>156.919520</td>\n",
       "    </tr>\n",
       "    <tr>\n",
       "      <th>5</th>\n",
       "      <td>131.070007</td>\n",
       "      <td>132.446775</td>\n",
       "      <td>129.664240</td>\n",
       "      <td>132.236174</td>\n",
       "    </tr>\n",
       "    <tr>\n",
       "      <th>...</th>\n",
       "      <td>...</td>\n",
       "      <td>...</td>\n",
       "      <td>...</td>\n",
       "      <td>...</td>\n",
       "    </tr>\n",
       "    <tr>\n",
       "      <th>340</th>\n",
       "      <td>112.610001</td>\n",
       "      <td>111.910206</td>\n",
       "      <td>115.490770</td>\n",
       "      <td>111.232114</td>\n",
       "    </tr>\n",
       "    <tr>\n",
       "      <th>341</th>\n",
       "      <td>152.080002</td>\n",
       "      <td>154.474767</td>\n",
       "      <td>154.415889</td>\n",
       "      <td>154.956266</td>\n",
       "    </tr>\n",
       "    <tr>\n",
       "      <th>342</th>\n",
       "      <td>117.220001</td>\n",
       "      <td>114.785822</td>\n",
       "      <td>116.140726</td>\n",
       "      <td>113.163431</td>\n",
       "    </tr>\n",
       "    <tr>\n",
       "      <th>343</th>\n",
       "      <td>116.410004</td>\n",
       "      <td>114.939936</td>\n",
       "      <td>115.361842</td>\n",
       "      <td>116.764080</td>\n",
       "    </tr>\n",
       "    <tr>\n",
       "      <th>344</th>\n",
       "      <td>118.919998</td>\n",
       "      <td>118.282791</td>\n",
       "      <td>119.779551</td>\n",
       "      <td>116.475148</td>\n",
       "    </tr>\n",
       "  </tbody>\n",
       "</table>\n",
       "<p>344 rows × 4 columns</p>\n",
       "</div>"
      ],
      "text/plain": [
       "         y_test       Ridge  Random Forest Regression         MLP\n",
       "1    127.699997  126.310070                126.404958  126.640365\n",
       "2    116.470001  117.835560                118.019889  116.261090\n",
       "3    157.320007  159.047586                155.018143  159.006143\n",
       "4    155.089996  156.038240                154.979144  156.919520\n",
       "5    131.070007  132.446775                129.664240  132.236174\n",
       "..          ...         ...                       ...         ...\n",
       "340  112.610001  111.910206                115.490770  111.232114\n",
       "341  152.080002  154.474767                154.415889  154.956266\n",
       "342  117.220001  114.785822                116.140726  113.163431\n",
       "343  116.410004  114.939936                115.361842  116.764080\n",
       "344  118.919998  118.282791                119.779551  116.475148\n",
       "\n",
       "[344 rows x 4 columns]"
      ]
     },
     "execution_count": 36,
     "metadata": {},
     "output_type": "execute_result"
    }
   ],
   "source": [
    "index = pd.Index(range(1, 345))\n",
    "summary_df = pd.DataFrame({'y_test':y_test, 'Ridge':ridge_model_predict, \n",
    "                           'Random Forest Regression':rfr_predict, 'MLP':MLP_predict})\n",
    "\n",
    "\n",
    "summary_df = summary_df.set_index(index)\n",
    "\n",
    "summary_df"
   ]
  },
  {
   "cell_type": "code",
   "execution_count": 37,
   "id": "f3f49ddd",
   "metadata": {},
   "outputs": [
    {
     "data": {
      "image/png": "[encoded data removed]",
      "text/plain": [
       "<Figure size 720x720 with 1 Axes>"
      ]
     },
     "metadata": {
      "needs_background": "light"
     },
     "output_type": "display_data"
    }
   ],
   "source": [
    "plt.figure(figsize=(10, 10))\n",
    "plt.plot(summary_df)\n",
    "plt.title('Adjusted Gold Price History with predictions')\n",
    "plt.show()"
   ]
  }
 ],
 "metadata": {
  "kernelspec": {
   "display_name": "Python 3 (ipykernel)",
   "language": "python",
   "name": "python3"
  },
  "language_info": {
   "codemirror_mode": {
    "name": "ipython",
    "version": 3
   },
   "file_extension": ".py",
   "mimetype": "text/x-python",
   "name": "python",
   "nbconvert_exporter": "python",
   "pygments_lexer": "ipython3",
   "version": "3.9.7"
  },
  "toc": {
   "base_numbering": 1,
   "nav_menu": {},
   "number_sections": true,
   "sideBar": true,
   "skip_h1_title": true,
   "title_cell": "Table of Contents",
   "title_sidebar": "Contents",
   "toc_cell": false,
   "toc_position": {},
   "toc_section_display": true,
   "toc_window_display": false
  },
  "varInspector": {
   "cols": {
    "lenName": 16,
    "lenType": 16,
    "lenVar": 40
   },
   "kernels_config": {
    "python": {
     "delete_cmd_postfix": "",
     "delete_cmd_prefix": "del ",
     "library": "var_list.py",
     "varRefreshCmd": "print(var_dic_list())"
    },
    "r": {
     "delete_cmd_postfix": ") ",
     "delete_cmd_prefix": "rm(",
     "library": "var_list.r",
     "varRefreshCmd": "cat(var_dic_list()) "
    }
   },
   "types_to_exclude": [
    "module",
    "function",
    "builtin_function_or_method",
    "instance",
    "_Feature"
   ],
   "window_display": false
  }
 },
 "nbformat": 4,
 "nbformat_minor": 5
}
